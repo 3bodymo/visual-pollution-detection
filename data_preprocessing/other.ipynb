{
 "cells": [
  {
   "cell_type": "code",
   "execution_count": 1,
   "metadata": {},
   "outputs": [],
   "source": [
    "import pandas as pd\n",
    "import shutil\n",
    "import cv2\n",
    "import os, sys\n",
    "import glob\n",
    "import random\n",
    "import io"
   ]
  },
  {
   "cell_type": "code",
   "execution_count": 13,
   "metadata": {},
   "outputs": [],
   "source": [
    "\n",
    "src_path1 = r'C:\\Users\\Abdalrhman Morsi\\Desktop\\dataset\\train\\images'\n",
    "src_path2 = r'C:\\Users\\Abdalrhman Morsi\\Desktop\\dataset\\train\\labels'\n",
    "\n",
    "dst_path1 = r'C:\\Users\\Abdalrhman Morsi\\Desktop\\dataset\\val\\images'\n",
    "dst_path2 = r'C:\\Users\\Abdalrhman Morsi\\Desktop\\dataset\\val\\labels'\n",
    "\n",
    "files = os.listdir(src_path1)\n",
    "random_files = random.sample(files, 1539)\n",
    "\n",
    "for file in random_files:\n",
    "    source_path1 = os.path.join(src_path1, file)\n",
    "    destination_path1 = os.path.join(dst_path1, file)\n",
    "    shutil.move(source_path1, destination_path1)\n",
    "\n",
    "\n",
    "for file in random_files:\n",
    "    source_path2 = os.path.join(src_path2, os.path.splitext(file)[0]) + \".txt\"\n",
    "    destination_path2 = os.path.join(dst_path2, os.path.splitext(file)[0]) + \".txt\"\n",
    "    shutil.move(source_path2, destination_path2)"
   ]
  },
  {
   "cell_type": "code",
   "execution_count": 17,
   "metadata": {},
   "outputs": [],
   "source": [
    "# split the Image data into Train and Valdation\n",
    "\n",
    "for file in os.listdir(r\"C:\\Users\\Abdalrhman Morsi\\Desktop\\dataset\\train\\images\"):\n",
    "    if int (os.path.splitext(file)[0]) > 7000 :\n",
    "        src_path = fr\"C:\\Users\\Abdalrhman Morsi\\Desktop\\dataset\\train\\images\\{file}\"\n",
    "        dst_path = fr\"C:\\Users\\Abdalrhman Morsi\\Desktop\\dataset\\val\\images\\{file}\"\n",
    "        shutil.move(src_path, dst_path)"
   ]
  },
  {
   "cell_type": "code",
   "execution_count": 11,
   "metadata": {},
   "outputs": [],
   "source": [
    "# split the Labels of the Image data into Train and Valdation\n",
    "\n",
    "for file in os.listdir(r\"C:\\Users\\Abdalrhman Morsi\\Desktop\\dataset\\train\\labels\"):\n",
    "    if int (os.path.splitext(file)[0]) > 7000 :\n",
    "        src_path = fr\"C:\\Users\\Abdalrhman Morsi\\Desktop\\dataset\\train\\labels\\{file}\"\n",
    "        dst_path = fr\"C:\\Users\\Abdalrhman Morsi\\Desktop\\dataset\\val\\labels\\{file}\"\n",
    "        shutil.move(src_path, dst_path)"
   ]
  },
  {
   "cell_type": "code",
   "execution_count": 42,
   "metadata": {},
   "outputs": [],
   "source": [
    "# resize potholes images\n",
    "\n",
    "path1 = r\"C:\\Users\\Abdalrhman Morsi\\Desktop\\dataset\\potholes\\images\"\n",
    "\n",
    "dim = (1920, 1080)\n",
    "\n",
    "for filename in glob.iglob(f'{path1}/*.jpg'):\n",
    "        img = cv2.imread(filename, cv2.IMREAD_UNCHANGED)\n",
    "        resized = cv2.resize(img, dim, interpolation = cv2.INTER_AREA)\n",
    "        cv2.imwrite(filename, resized)\n",
    "\n",
    "\n",
    "\n",
    "# Modify the class in the labels of potholes images\n",
    "\n",
    "path2 = r\"C:\\Users\\Abdalrhman Morsi\\Desktop\\dataset\\potholes\\labels\"\n",
    "\n",
    "# iterate over files in that directory\n",
    "\n",
    "for filename in glob.iglob(f'{path2}/*.txt'):\n",
    "    \n",
    "    # iterate over lines in that file\n",
    "    \n",
    "    with open(filename, \"r\") as f:\n",
    "        lines = f.readlines()\n",
    "\n",
    "    with open(filename, \"w\") as f:\n",
    "        for line in lines:\n",
    "            line = \"2\" + line[1:]\n",
    "            f.write(line)\n",
    "        "
   ]
  },
  {
   "cell_type": "code",
   "execution_count": 5,
   "metadata": {},
   "outputs": [],
   "source": [
    "# shuffle images and labels in the same folder \n",
    "\n",
    "path3 = r\"C:\\Users\\Abdalrhman Morsi\\Desktop\\dataset\\train\\all\"\n",
    "\n",
    "files = os.listdir(path3)\n",
    "random.shuffle(files)\n",
    "\n",
    "for file in files:\n",
    "    os.rename(os.path.join(path3, file), os.path.join(path3, file))\n",
    "\n",
    "# rename and move images and labels \n",
    "\n",
    "for (idx , txtfile) in enumerate (glob.iglob(f'{path3}/*.txt')) :\n",
    "    for image in glob.iglob(f'{path3}/*.jpg'):\n",
    "        if os.path.splitext(os.path.basename(txtfile))[0] == os.path.splitext(os.path.basename(image))[0] :\n",
    "            \n",
    "            src_path1 = txtfile\n",
    "            src_path2 = image\n",
    "\n",
    "            dst_path1 = fr\"C:\\Users\\Abdalrhman Morsi\\Desktop\\dataset\\train\\labels\\{idx+1}.txt\"\n",
    "            dst_path2 = fr\"C:\\Users\\Abdalrhman Morsi\\Desktop\\dataset\\train\\images\\{idx+1}.jpg\"\n",
    "            \n",
    "            shutil.move(src_path1, dst_path1) \n",
    "            shutil.move(src_path2, dst_path2) "
   ]
  },
  {
   "cell_type": "code",
   "execution_count": 7,
   "metadata": {},
   "outputs": [
    {
     "name": "stdout",
     "output_type": "stream",
     "text": [
      "24051\n"
     ]
    }
   ],
   "source": [
    "#total number of labels\n",
    "\n",
    "folder_path = r\"C:\\Users\\Abdalrhman Morsi\\Desktop\\dataset\\train\\labels\"\n",
    "total_lines = 0\n",
    "for filename in os.listdir(folder_path):\n",
    "    with open(os.path.join(folder_path, filename), \"r\") as file:\n",
    "        total_lines += len(file.readlines())\n",
    "\n",
    "print(total_lines)\n"
   ]
  },
  {
   "cell_type": "code",
   "execution_count": 5,
   "metadata": {},
   "outputs": [
    {
     "ename": "ValueError",
     "evalue": "invalid literal for int() with base 10: 'GRAFFITI'",
     "output_type": "error",
     "traceback": [
      "\u001b[1;31m---------------------------------------------------------------------------\u001b[0m",
      "\u001b[1;31mValueError\u001b[0m                                Traceback (most recent call last)",
      "\u001b[1;32mC:\\Users\\ABDALR~1\\AppData\\Local\\Temp/ipykernel_19660/655122086.py\u001b[0m in \u001b[0;36m<module>\u001b[1;34m\u001b[0m\n\u001b[0;32m      9\u001b[0m             \u001b[1;32mfor\u001b[0m \u001b[0mline\u001b[0m \u001b[1;32min\u001b[0m \u001b[0mlines\u001b[0m\u001b[1;33m:\u001b[0m\u001b[1;33m\u001b[0m\u001b[1;33m\u001b[0m\u001b[0m\n\u001b[0;32m     10\u001b[0m                 \u001b[0mvalues\u001b[0m \u001b[1;33m=\u001b[0m \u001b[0mline\u001b[0m\u001b[1;33m.\u001b[0m\u001b[0msplit\u001b[0m\u001b[1;33m(\u001b[0m\u001b[1;33m)\u001b[0m\u001b[1;33m\u001b[0m\u001b[1;33m\u001b[0m\u001b[0m\n\u001b[1;32m---> 11\u001b[1;33m                 \u001b[0mfirst_val\u001b[0m \u001b[1;33m=\u001b[0m \u001b[0mint\u001b[0m\u001b[1;33m(\u001b[0m\u001b[0mvalues\u001b[0m\u001b[1;33m[\u001b[0m\u001b[1;36m0\u001b[0m\u001b[1;33m]\u001b[0m\u001b[1;33m)\u001b[0m\u001b[1;33m\u001b[0m\u001b[1;33m\u001b[0m\u001b[0m\n\u001b[0m\u001b[0;32m     12\u001b[0m                 \u001b[0mvalues\u001b[0m \u001b[1;33m=\u001b[0m \u001b[1;33m[\u001b[0m\u001b[0mstr\u001b[0m\u001b[1;33m(\u001b[0m\u001b[0mfirst_val\u001b[0m\u001b[1;33m)\u001b[0m \u001b[1;32mif\u001b[0m \u001b[0mi\u001b[0m \u001b[1;33m==\u001b[0m \u001b[1;36m0\u001b[0m \u001b[1;32melse\u001b[0m \u001b[0mstr\u001b[0m\u001b[1;33m(\u001b[0m\u001b[0mround\u001b[0m\u001b[1;33m(\u001b[0m\u001b[0mfloat\u001b[0m\u001b[1;33m(\u001b[0m\u001b[0mval\u001b[0m\u001b[1;33m)\u001b[0m\u001b[1;33m,\u001b[0m \u001b[1;36m5\u001b[0m\u001b[1;33m)\u001b[0m\u001b[1;33m)\u001b[0m \u001b[1;32mfor\u001b[0m \u001b[0mi\u001b[0m\u001b[1;33m,\u001b[0m \u001b[0mval\u001b[0m \u001b[1;32min\u001b[0m \u001b[0menumerate\u001b[0m\u001b[1;33m(\u001b[0m\u001b[0mvalues\u001b[0m\u001b[1;33m)\u001b[0m\u001b[1;33m]\u001b[0m\u001b[1;33m\u001b[0m\u001b[1;33m\u001b[0m\u001b[0m\n\u001b[0;32m     13\u001b[0m                 \u001b[0mnew_line\u001b[0m \u001b[1;33m=\u001b[0m \u001b[1;34m' '\u001b[0m\u001b[1;33m.\u001b[0m\u001b[0mjoin\u001b[0m\u001b[1;33m(\u001b[0m\u001b[0mvalues\u001b[0m\u001b[1;33m)\u001b[0m\u001b[1;33m\u001b[0m\u001b[1;33m\u001b[0m\u001b[0m\n",
      "\u001b[1;31mValueError\u001b[0m: invalid literal for int() with base 10: 'GRAFFITI'"
     ]
    }
   ],
   "source": [
    "folder_path = r'train\\labels' # replace with the actual path to the folder containing the text files\n",
    "\n",
    "for filename in os.listdir(folder_path):\n",
    "    if filename.endswith('.txt'):\n",
    "        file_path = os.path.join(folder_path, filename)\n",
    "        with open(file_path, 'r') as file:\n",
    "            lines = file.readlines()\n",
    "        with open(file_path, 'w') as file:\n",
    "            for line in lines:\n",
    "                values = line.split()\n",
    "                first_val = int(values[0])\n",
    "                values = [str(first_val) if i == 0 else str(round(float(val), 5)) for i, val in enumerate(values)]\n",
    "                new_line = ' '.join(values)\n",
    "                file.write(new_line + '\\n')"
   ]
  },
  {
   "cell_type": "code",
   "execution_count": 6,
   "metadata": {},
   "outputs": [
    {
     "ename": "ValueError",
     "evalue": "invalid literal for int() with base 10: 'GRAFFITI'",
     "output_type": "error",
     "traceback": [
      "\u001b[1;31m---------------------------------------------------------------------------\u001b[0m",
      "\u001b[1;31mValueError\u001b[0m                                Traceback (most recent call last)",
      "\u001b[1;32mC:\\Users\\ABDALR~1\\AppData\\Local\\Temp/ipykernel_19660/2124822451.py\u001b[0m in \u001b[0;36m<module>\u001b[1;34m\u001b[0m\n\u001b[0;32m      9\u001b[0m             \u001b[1;32mfor\u001b[0m \u001b[0mline\u001b[0m \u001b[1;32min\u001b[0m \u001b[0mlines\u001b[0m\u001b[1;33m:\u001b[0m\u001b[1;33m\u001b[0m\u001b[1;33m\u001b[0m\u001b[0m\n\u001b[0;32m     10\u001b[0m                 \u001b[0mvalues\u001b[0m \u001b[1;33m=\u001b[0m \u001b[0mline\u001b[0m\u001b[1;33m.\u001b[0m\u001b[0msplit\u001b[0m\u001b[1;33m(\u001b[0m\u001b[1;33m)\u001b[0m\u001b[1;33m\u001b[0m\u001b[1;33m\u001b[0m\u001b[0m\n\u001b[1;32m---> 11\u001b[1;33m                 \u001b[0mfirst_val\u001b[0m \u001b[1;33m=\u001b[0m \u001b[0mint\u001b[0m\u001b[1;33m(\u001b[0m\u001b[0mvalues\u001b[0m\u001b[1;33m[\u001b[0m\u001b[1;36m0\u001b[0m\u001b[1;33m]\u001b[0m\u001b[1;33m)\u001b[0m\u001b[1;33m\u001b[0m\u001b[1;33m\u001b[0m\u001b[0m\n\u001b[0m\u001b[0;32m     12\u001b[0m                 \u001b[0mvalues\u001b[0m \u001b[1;33m=\u001b[0m \u001b[1;33m[\u001b[0m\u001b[0mstr\u001b[0m\u001b[1;33m(\u001b[0m\u001b[0mfirst_val\u001b[0m\u001b[1;33m)\u001b[0m \u001b[1;32mif\u001b[0m \u001b[0mi\u001b[0m \u001b[1;33m==\u001b[0m \u001b[1;36m0\u001b[0m \u001b[1;32melse\u001b[0m \u001b[0mstr\u001b[0m\u001b[1;33m(\u001b[0m\u001b[0mround\u001b[0m\u001b[1;33m(\u001b[0m\u001b[0mfloat\u001b[0m\u001b[1;33m(\u001b[0m\u001b[0mval\u001b[0m\u001b[1;33m)\u001b[0m\u001b[1;33m,\u001b[0m \u001b[1;36m5\u001b[0m\u001b[1;33m)\u001b[0m\u001b[1;33m)\u001b[0m \u001b[1;32mfor\u001b[0m \u001b[0mi\u001b[0m\u001b[1;33m,\u001b[0m \u001b[0mval\u001b[0m \u001b[1;32min\u001b[0m \u001b[0menumerate\u001b[0m\u001b[1;33m(\u001b[0m\u001b[0mvalues\u001b[0m\u001b[1;33m)\u001b[0m\u001b[1;33m]\u001b[0m\u001b[1;33m\u001b[0m\u001b[1;33m\u001b[0m\u001b[0m\n\u001b[0;32m     13\u001b[0m                 \u001b[0mnew_line\u001b[0m \u001b[1;33m=\u001b[0m \u001b[1;34m' '\u001b[0m\u001b[1;33m.\u001b[0m\u001b[0mjoin\u001b[0m\u001b[1;33m(\u001b[0m\u001b[0mvalues\u001b[0m\u001b[1;33m)\u001b[0m\u001b[1;33m\u001b[0m\u001b[1;33m\u001b[0m\u001b[0m\n",
      "\u001b[1;31mValueError\u001b[0m: invalid literal for int() with base 10: 'GRAFFITI'"
     ]
    }
   ],
   "source": [
    "folder_path = r'val\\labels' # replace with the actual path to the folder containing the text files\n",
    "\n",
    "for filename in os.listdir(folder_path):\n",
    "    if filename.endswith('.txt'):\n",
    "        file_path = os.path.join(folder_path, filename)\n",
    "        with open(file_path, 'r') as file:\n",
    "            lines = file.readlines()\n",
    "        with open(file_path, 'w') as file:\n",
    "            for line in lines:\n",
    "                values = line.split()\n",
    "                first_val = int(values[0])\n",
    "                values = [str(first_val) if i == 0 else str(round(float(val), 5)) for i, val in enumerate(values)]\n",
    "                new_line = ' '.join(values)\n",
    "                file.write(new_line + '\\n')"
   ]
  },
  {
   "cell_type": "code",
   "execution_count": null,
   "metadata": {},
   "outputs": [],
   "source": []
  }
 ],
 "metadata": {
  "kernelspec": {
   "display_name": "base",
   "language": "python",
   "name": "python3"
  },
  "language_info": {
   "codemirror_mode": {
    "name": "ipython",
    "version": 3
   },
   "file_extension": ".py",
   "mimetype": "text/x-python",
   "name": "python",
   "nbconvert_exporter": "python",
   "pygments_lexer": "ipython3",
   "version": "3.9.7"
  },
  "orig_nbformat": 4,
  "vscode": {
   "interpreter": {
    "hash": "27c19a2639767cbf87921af6ebe6c73ae6a23b76e7614a17f4eda8375b7709b0"
   }
  }
 },
 "nbformat": 4,
 "nbformat_minor": 2
}
